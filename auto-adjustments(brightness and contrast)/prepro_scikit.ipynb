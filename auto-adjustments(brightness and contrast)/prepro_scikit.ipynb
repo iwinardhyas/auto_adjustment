{
 "cells": [
  {
   "cell_type": "code",
   "execution_count": 3,
   "metadata": {},
   "outputs": [],
   "source": [
    "from skimage.filters import threshold_yen\n",
    "from skimage.exposure import rescale_intensity\n",
    "from skimage.io import imread, imsave\n",
    "import cv2"
   ]
  },
  {
   "cell_type": "code",
   "execution_count": 14,
   "metadata": {},
   "outputs": [],
   "source": [
    "# path = '/home/erwin/Documents/project_docrec/error/ijazah/jpg/file tidak sesuai (3).jpg'\n",
    "path = '/home/erwin/Desktop/test_ibuk2/1_670074_DST0163_08:59:27.176995.jpg'\n",
    "img = imread(path)\n",
    "# img = cv2.resize(img,(640,480))\n",
    "gambar = cv2.imread(path)\n",
    "cv2.imshow('tes',img)\n",
    "\n",
    "yen_threshold = threshold_yen(img)\n",
    "bright = rescale_intensity(img, (0, yen_threshold), (0, 255))\n",
    "cv2.imshow('out',bright)\n",
    "\n",
    "cv2.waitKey(0)\n",
    "cv2.destroyAllWindows()\n",
    "# imsave('out.jpg', bright)"
   ]
  }
 ],
 "metadata": {
  "kernelspec": {
   "display_name": "Python 3",
   "language": "python",
   "name": "python3"
  },
  "language_info": {
   "codemirror_mode": {
    "name": "ipython",
    "version": 3
   },
   "file_extension": ".py",
   "mimetype": "text/x-python",
   "name": "python",
   "nbconvert_exporter": "python",
   "pygments_lexer": "ipython3",
   "version": "3.7.3"
  }
 },
 "nbformat": 4,
 "nbformat_minor": 4
}
