{
 "cells": [
  {
   "cell_type": "code",
   "execution_count": 1,
   "metadata": {},
   "outputs": [
    {
     "name": "stdout",
     "output_type": "stream",
     "text": [
      "680\n"
     ]
    }
   ],
   "source": [
    "import urllib.request, json\n",
    "\n",
    "url = \"http://10.32.201.39/get_all_datasheet_v3/dani/123\"\n",
    "\n",
    "response = urllib.request.urlopen(url)\n",
    "\n",
    "data = json.loads(response.read())\n",
    "jumlah_data = len(data)\n",
    "jumlah_data_terbaru = None\n",
    "print(jumlah_data)\n",
    "\n",
    "if jumlah_data != jumlah_data_terbaru:\n",
    "    with open('data.json', 'w') as f:\n",
    "        json.dump(data, f)\n",
    "\n",
    "    with open('data_jumlah', 'w+') as f:\n",
    "        f.write(str(jumlah_data))\n",
    "\n",
    "# print (data)"
   ]
  },
  {
   "cell_type": "code",
   "execution_count": 5,
   "metadata": {},
   "outputs": [
    {
     "ename": "SyntaxError",
     "evalue": "invalid syntax (<ipython-input-5-94b0ab345a0a>, line 1)",
     "output_type": "error",
     "traceback": [
      "\u001b[0;36m  File \u001b[0;32m\"<ipython-input-5-94b0ab345a0a>\"\u001b[0;36m, line \u001b[0;32m1\u001b[0m\n\u001b[0;31m    data1 = [[[316.4078  281.3067 ]\u001b[0m\n\u001b[0m                                ^\u001b[0m\n\u001b[0;31mSyntaxError\u001b[0m\u001b[0;31m:\u001b[0m invalid syntax\n"
     ]
    }
   ],
   "source": [
    "data1 = [[[316.4078  281.3067 ]\n",
    "  [390.05527 295.11975]\n",
    "  [353.05896 328.68555]\n",
    "  [305.8139  356.42972]\n",
    "  [368.37064 367.8933 ]]]\n",
    "\n",
    "print(data1)"
   ]
  }
 ],
 "metadata": {
  "kernelspec": {
   "display_name": "Python 3",
   "language": "python",
   "name": "python3"
  },
  "language_info": {
   "codemirror_mode": {
    "name": "ipython",
    "version": 3
   },
   "file_extension": ".py",
   "mimetype": "text/x-python",
   "name": "python",
   "nbconvert_exporter": "python",
   "pygments_lexer": "ipython3",
   "version": "3.7.3"
  }
 },
 "nbformat": 4,
 "nbformat_minor": 4
}
